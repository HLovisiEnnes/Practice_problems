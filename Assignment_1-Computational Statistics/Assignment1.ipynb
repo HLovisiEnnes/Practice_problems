{
 "cells": [
  {
   "cell_type": "code",
   "execution_count": 1,
   "metadata": {},
   "outputs": [],
   "source": [
    "import numpy as np\n",
    "import matplotlib.pyplot as plt\n",
    "from scipy.stats import t\n",
    "import pandas as pd\n",
    "import time"
   ]
  },
  {
   "cell_type": "markdown",
   "metadata": {},
   "source": [
    "# HMC Infinite Well"
   ]
  },
  {
   "cell_type": "code",
   "execution_count": 2,
   "metadata": {},
   "outputs": [],
   "source": [
    "def HMC_infinite_well(epsilon, L, a = 0, b = 1, m = 1, number_of_points = 1000, warmup = 30):\n",
    "    '''\n",
    "    Samples from the classical infinite well using a traditional HMC. \n",
    "    Inputs: epsilon, stepsize for leapfrog; L, number of integration steps for leapfrog; a =1 , initial point of interval well; b, final point of interval well; number_of_points = 10000, number of points to be sampled; warmup = 30, number of initial iterations to be discarded\n",
    "    Output: acceptance rate; sampled points\n",
    "    '''\n",
    "    coord = []\n",
    "    discard = 0\n",
    "    it = 0\n",
    "    \n",
    "    x = np.random.normal(loc = (a+b)/2, scale = (b-a)/10) #initially sample the coordinates as a normal\n",
    "    while x < a or x > b: #if the normal samples the coordinated outside the target support, resamples \n",
    "        x = np.random.normal()\n",
    "\n",
    "    for run in range(number_of_points+warmup): #leapfrog\n",
    "        p = np.random.normal(scale =  m**(1/2)) #samples p as N(0, sigma)\n",
    "        H_0 = p**2/(2*m)\n",
    "        x0 = x\n",
    "        for integration in range(L):\n",
    "            p =  p\n",
    "            x += epsilon*p/m\n",
    "            if x < a or x > b: #if in forbidden region\n",
    "                x = x0 #sets x as its previous value\n",
    "                discard += 1 #increase discard\n",
    "                break #if in the forbidden region, halts the algorithm\n",
    "            p = p\n",
    "        H = p**2/(2*m)\n",
    "        it += 1\n",
    "        if it > warmup: #add warm up to the process\n",
    "            prob = np.random.random()\n",
    "            if prob < min([1,np.exp(H_0-H)]): #Metropolis-Hastings acceptance step\n",
    "                coord.append(x)\n",
    "    \n",
    "    return ((number_of_points-discard)/(number_of_points), coord)"
   ]
  },
  {
   "cell_type": "code",
   "execution_count": 3,
   "metadata": {},
   "outputs": [
    {
     "data": {
      "image/png": "[encoded data removed]",
      "text/plain": [
       "<Figure size 432x288 with 1 Axes>"
      ]
     },
     "metadata": {
      "needs_background": "light"
     },
     "output_type": "display_data"
    }
   ],
   "source": [
    "plt.hist(HMC_infinite_well(0.01, 100)[1], bins = 100, density = True)\n",
    "plt.show()"
   ]
  },
  {
   "cell_type": "markdown",
   "metadata": {},
   "source": [
    "# RHMC Infinite Well"
   ]
  },
  {
   "cell_type": "code",
   "execution_count": 4,
   "metadata": {},
   "outputs": [],
   "source": [
    "def RHMC_infinite_well(epsilon, L, a = 0, b = 1, m = 1, number_of_points = 1000, warmup = 30):\n",
    "    '''\n",
    "    Samples from the classical infinite well using a RHMC. \n",
    "    Inputs: epsilon, stepsize for leapfrog; L, number of integration steps for leapfrog; a =1 , initial point of interval well; b, final point of interval well; number_of_points = 10000, number of points to be sampled; warmup = 30, number of initial iterations to be discarded\n",
    "    Output: sampled points\n",
    "    '''\n",
    "    coord = []\n",
    "    it = 0\n",
    "    \n",
    "    x = np.random.normal(loc = (a+b)/2, scale = (b-a)/10) #initially sample the coordinates as a normal\n",
    "    while x < a or x > b: #if the normal samples the coordinated outside the target support, resamples \n",
    "        x = np.random.normal()\n",
    "\n",
    "    for run in range(number_of_points+warmup): #leapfrog\n",
    "        p = np.random.normal(scale =  m**(1/2)) #samples p as N(0, m**2)\n",
    "        H_0 = p**2/(2*m)\n",
    "        for integration in range(L):\n",
    "            p =  p\n",
    "            x += epsilon*p/m\n",
    "            while x < a or x > b: #if in forbidden region\n",
    "                p = -p #refelcts the momentum vector\n",
    "                if x < a:\n",
    "                    x = a+(a-x)\n",
    "                elif x > b:\n",
    "                    x = b-(x-b)\n",
    "            p = p\n",
    "        H = p**2/(2*m)\n",
    "        it += 1\n",
    "        if it > warmup:\n",
    "            prob = np.random.random()\n",
    "            if prob < min([1,np.exp(H_0-H)]):  #Metropolis-Hastings acceptance step\n",
    "                coord.append(x)\n",
    "            else:\n",
    "                coord.append(coord[-1])\n",
    "    \n",
    "    return coord"
   ]
  },
  {
   "cell_type": "code",
   "execution_count": 5,
   "metadata": {},
   "outputs": [
    {
     "data": {
      "image/png": "[encoded data removed]",
      "text/plain": [
       "<Figure size 432x288 with 1 Axes>"
      ]
     },
     "metadata": {
      "needs_background": "light"
     },
     "output_type": "display_data"
    }
   ],
   "source": [
    "plt.hist(RHMC_infinite_well(0.01, 100), density = True, bins = 100)\n",
    "plt.show()"
   ]
  },
  {
   "cell_type": "code",
   "execution_count": 6,
   "metadata": {},
   "outputs": [
    {
     "data": {
      "image/png": "[encoded data removed]",
      "text/plain": [
       "<Figure size 432x288 with 1 Axes>"
      ]
     },
     "metadata": {
      "needs_background": "light"
     },
     "output_type": "display_data"
    }
   ],
   "source": [
    "coord = []\n",
    "for run in range(500):\n",
    "    coord += RHMC_infinite_well(0.01, 100)\n",
    "plt.hist(coord, density = True, bins = 100)\n",
    "plt.title('RHMC Sampler')\n",
    "plt.show()"
   ]
  },
  {
   "cell_type": "code",
   "execution_count": 7,
   "metadata": {},
   "outputs": [
    {
     "data": {
      "image/png": "[encoded data removed]",
      "text/plain": [
       "<Figure size 432x288 with 1 Axes>"
      ]
     },
     "metadata": {
      "needs_background": "light"
     },
     "output_type": "display_data"
    }
   ],
   "source": [
    "coord = []\n",
    "for run in range(500):\n",
    "    coord += RHMC_infinite_well(0.1, 100)\n",
    "plt.hist(coord, density = True, bins = 100)\n",
    "plt.title('RHMC Sampler')\n",
    "plt.show()"
   ]
  },
  {
   "cell_type": "code",
   "execution_count": 8,
   "metadata": {},
   "outputs": [
    {
     "data": {
      "image/png": "[encoded data removed]",
      "text/plain": [
       "<Figure size 432x288 with 1 Axes>"
      ]
     },
     "metadata": {
      "needs_background": "light"
     },
     "output_type": "display_data"
    }
   ],
   "source": [
    "coord = []\n",
    "for run in range(500):\n",
    "    coord += RHMC_infinite_well(1, 100)\n",
    "plt.hist(coord, density = True, bins = 100)\n",
    "plt.title('RHMC Sampler')\n",
    "plt.show()"
   ]
  },
  {
   "cell_type": "code",
   "execution_count": 9,
   "metadata": {},
   "outputs": [
    {
     "data": {
      "image/png": "[encoded data removed]",
      "text/plain": [
       "<Figure size 432x288 with 1 Axes>"
      ]
     },
     "metadata": {
      "needs_background": "light"
     },
     "output_type": "display_data"
    }
   ],
   "source": [
    "plt.hist(np.random.random(500*1000), density = True, bins = 100)\n",
    "plt.title('Numpy Sampler')\n",
    "plt.show()"
   ]
  },
  {
   "cell_type": "markdown",
   "metadata": {},
   "source": [
    "# Naive HMC Disk"
   ]
  },
  {
   "cell_type": "code",
   "execution_count": 10,
   "metadata": {},
   "outputs": [],
   "source": [
    "def HMC_disk(epsilon, L, R = 1, r1_0 = 1/2, r2_0 = 1/2, theta1_0 = np.pi, theta2_0 = np.pi, mr1 = 1, mr2 = 1, mtheta1 = 1, mtheta2 = 1, number_of_points = 1000, full = False, warmup = 30):\n",
    "    '''\n",
    "    Samples from the unfiform distribution on [0,R] x [0, R] x [0, 2pi] x [0, 2pi] using traditonal HMC, estimating then the mean distance between two points sampled independently and uniform on a disk of radius R. \n",
    "    Inputs: epsilon, stepsize for leapfrog; L, number of integration steps for leapfrog; R = 1, radius of the disk which we are interest at; r1_0 = 1, initial point to take r1; r2_0 = 1, initial point to take r2; theta1_0, initial point to take theta1; theta2_0, initial point to take theta2; mr1 = 1; mr2 = 1; mtheta1 = 1; mtheta2 = 1; number_of_points = 10000, number of points to be sampled; full = False, if True, also returns all sampled points;  warmup = 30, number of initial iterations to be discarded\n",
    "    Output: sampled points\n",
    "    '''\n",
    "    distance = []\n",
    "    it = 0\n",
    "    discard = 0\n",
    "    \n",
    "    #initialize the coordinated\n",
    "    r1 = r1_0 \n",
    "    r2 = r2_0\n",
    "    theta1 = theta1_0\n",
    "    theta2 = theta2_0\n",
    "    \n",
    "    for run in range(number_of_points+warmup): #leapfrog\n",
    "        pr1 = np.random.normal(scale =  mr1**(1/2)) #samples pr1 as N(0, mr1**2)\n",
    "        pr2 = np.random.normal(scale =  mr2**(1/2)) #samples pr2 as N(0, mr2**2)\n",
    "        ptheta1 = np.random.normal(scale =  mtheta1**(1/2)) #samples prtheta1 as N(0, mtheta1**2)\n",
    "        ptheta2 = np.random.normal(scale =  mtheta2**(1/2)) #samples prtheta2 as N(0, mtheta2**2)\n",
    "        \n",
    "        H_0 = pr1**2/(2*mr1)+pr2**2/(2*mr2)+ptheta1**2/(2*mtheta1)+ptheta2**2/(2*mtheta2)\n",
    "        \n",
    "        r1_last = r1\n",
    "        r2_last = r2\n",
    "        theta1_last = theta1\n",
    "        theta2_last = theta2\n",
    "        for integration in range(L):\n",
    "            #updates in in variables by Hamilton's equations\n",
    "            pr1 = pr1\n",
    "            pr2 = pr2\n",
    "            ptheta1 = ptheta1\n",
    "            ptheta2 = ptheta2\n",
    "            \n",
    "            r1 += epsilon*pr1/mr1\n",
    "            r2 += epsilon*pr2/mr2\n",
    "            theta1 += epsilon*ptheta1/mtheta1\n",
    "            theta2 += epsilon*ptheta2/mtheta2\n",
    "            \n",
    "            if r1 < 0 or r1 > R or r2 < 0 or r2 > R or theta1 < 0 or theta1 > 2*np.pi or theta2 < 0 or theta2 > 2*np.pi: #if in forbidden region\n",
    "                #consider any single situation that might lead to falsification of constraints\n",
    "                r1 = r1_last\n",
    "                r2 = r2_last\n",
    "                theta1 = theta1_last\n",
    "                theta2 = theta2_last\n",
    "                discard += 1\n",
    "                break\n",
    "                \n",
    "            pr1 = pr1 #reasign momenta (just a formality, as here the gradient of potential energy is always 0)\n",
    "            pr2 = pr2\n",
    "            ptheta1 = ptheta1\n",
    "            ptheta2 = ptheta2\n",
    "            \n",
    "        H = pr1**2/(2*mr1)+pr2**2/(2*mr2)+ptheta1**2/(2*mtheta1)+ptheta2**2/(2*mtheta2)\n",
    "        it += 1\n",
    "        if it > warmup:\n",
    "            prob = np.random.random()\n",
    "            if prob < min([1,np.exp(H_0-H)]):  #Metropolis-Hastings acceptance step (just a formality as acceptance rate will be, on this case, 1.0)\n",
    "                distance.append(4/R**2*np.sqrt(r1**2+r2**2-2*r1*r2*np.cos(theta1-theta2))*r1*r2)\n",
    "            else:\n",
    "                distance.append(distance[-1])\n",
    "    \n",
    "    if full == False: \n",
    "        return (np.mean(distance),(number_of_points-discard)/number_of_points)\n",
    "    else: \n",
    "        return (np.mean(distance), (number_of_points-discard)/number_of_points, distance)"
   ]
  },
  {
   "cell_type": "code",
   "execution_count": 11,
   "metadata": {},
   "outputs": [
    {
     "data": {
      "text/plain": [
       "(0.8030099229865066, 0.346)"
      ]
     },
     "execution_count": 11,
     "metadata": {},
     "output_type": "execute_result"
    }
   ],
   "source": [
    "HMC_disk(0.005, 100)"
   ]
  },
  {
   "cell_type": "code",
   "execution_count": 12,
   "metadata": {},
   "outputs": [],
   "source": [
    "estimation = []\n",
    "for runs in range(500):\n",
    "    estimation.append(HMC_disk(0.005, 100)[0])"
   ]
  },
  {
   "cell_type": "code",
   "execution_count": 13,
   "metadata": {},
   "outputs": [],
   "source": [
    "means = []\n",
    "for index in range(1, 499):\n",
    "    means.append(np.mean(estimation[:index]))"
   ]
  },
  {
   "cell_type": "code",
   "execution_count": 14,
   "metadata": {},
   "outputs": [
    {
     "data": {
      "image/png": "[encoded data removed]",
      "text/plain": [
       "<Figure size 432x288 with 1 Axes>"
      ]
     },
     "metadata": {
      "needs_background": "light"
     },
     "output_type": "display_data"
    }
   ],
   "source": [
    "plt.plot(range(len(means)), means)\n",
    "plt.plot(range(len(means)), 128/(45*np.pi)*np.ones(len(means)), 'r--')\n",
    "plt.title('Traditional HMC estimation')\n",
    "plt.xlabel('chains')\n",
    "plt.show()"
   ]
  },
  {
   "cell_type": "code",
   "execution_count": 15,
   "metadata": {},
   "outputs": [
    {
     "data": {
      "image/png": "[encoded data removed]",
      "text/plain": [
       "<Figure size 432x288 with 1 Axes>"
      ]
     },
     "metadata": {
      "needs_background": "light"
     },
     "output_type": "display_data"
    }
   ],
   "source": [
    "estimation = HMC_disk(0.005, 100, full = True, number_of_points = 1000)[2]\n",
    "means = []\n",
    "for index in range(1, 999):\n",
    "    means.append(np.mean(estimation[:index]))\n",
    "\n",
    "plt.plot(range(len(means)), means)\n",
    "plt.plot(range(len(means)), 128/(45*np.pi)*np.ones(len(means)), 'r--')\n",
    "plt.title('Tradional HMC estimation')\n",
    "plt.xlabel('number of points')\n",
    "plt.show()"
   ]
  },
  {
   "cell_type": "markdown",
   "metadata": {},
   "source": [
    "# RHMC Disk"
   ]
  },
  {
   "cell_type": "code",
   "execution_count": 16,
   "metadata": {},
   "outputs": [],
   "source": [
    "def RHMC_disk(epsilon, L, R = 1, mr1 = 1, mr2 = 1, mtheta1 = 1, mtheta2 = 1, number_of_points = 1000, full = False, warmup = 30):\n",
    "    '''\n",
    "    Samples from the unfiform distribution on [0,R] x [0, R] x [0, 2pi] x [0, 2pi] using a RHMC, estimating then the mean distance between two points sampled independently and uniform on a disk of radius R. \n",
    "    Inputs: epsilon, stepsize for leapfrog; L, number of integration steps for leapfrog; R = 1, radius of the disk which we are interest at; r1_0 = 1, initial point to take r1; r2_0 = 1, initial point to take r2; theta1_0, initial point to take theta1; theta2_0, initial point to take theta2; mr1 = 1; mr2 = 1; mtheta1 = 1; mtheta2 = 1; number_of_points = 10000, number of points to be sampled; full = False, if True, also returns all sampled points;  warmup = 30, number of initial iterations to be discarded\n",
    "    Output: sampled points\n",
    "    '''\n",
    "    distance = []\n",
    "    it = 0\n",
    "    \n",
    "    #initialize the coordinated\n",
    "    r1 = R*np.random.random()\n",
    "    r2 = R*np.random.random()\n",
    "    theta1 = 2*np.pi*np.random.random()\n",
    "    theta2 = 2*np.pi*np.random.random()\n",
    "    \n",
    "    for run in range(number_of_points+warmup): #leapfrog\n",
    "        pr1 = np.random.normal(scale =  mr1**(1/2)) #samples pr1 as N(0, mr1)\n",
    "        pr2 = np.random.normal(scale =  mr2**(1/2)) #samples pr2 as N(0, mr2)\n",
    "        ptheta1 = np.random.normal(scale =  mtheta1**(1/2)) #samples prtheta1 as N(0, mtheta1)\n",
    "        ptheta2 = np.random.normal(scale =  mtheta2**(1/2)) #samples prtheta2 as N(0, mtheta2)\n",
    "        \n",
    "        H_0 = pr1**2/(2*mr1)+pr2**2/(2*mr2)+ptheta1**2/(2*mtheta1)+ptheta2**2/(2*mtheta2)\n",
    "        for integration in range(L):\n",
    "            #updates in in variables by Hamilton's equations\n",
    "            pr1 = pr1\n",
    "            pr2 = pr2\n",
    "            ptheta1 = ptheta1\n",
    "            ptheta2 = ptheta2\n",
    "            \n",
    "            r1 += epsilon*pr1/mr1\n",
    "            r2 += epsilon*pr2/mr2\n",
    "            theta1 += epsilon*ptheta1/mtheta1\n",
    "            theta2 += epsilon*ptheta2/mtheta2\n",
    "            \n",
    "            while r1 < 0 or r1 > R or r2 < 0 or r2 > R or theta1 < 0 or theta1 > 2*np.pi or theta2 < 0 or theta2 > 2*np.pi: #if in forbidden region\n",
    "                #consider any single situation that might lead to falsification of constraints\n",
    "                if r1 < 0:\n",
    "                    pr1 = -pr1 #always invert the momentum of a component that breaks the constraints\n",
    "                    r1 = -r1\n",
    "                elif r1 > R:\n",
    "                    pr1 = -pr1\n",
    "                    r1 = R-(r1-R)\n",
    "                elif r2 < 0:\n",
    "                    pr2 = -pr2\n",
    "                    r2 = -r2\n",
    "                elif r2 > R:\n",
    "                    pr2 = -pr2\n",
    "                    r2 = R-(r2-R)\n",
    "                elif theta1 < 0:\n",
    "                    ptheta1 = -ptheta1\n",
    "                    theta1 = -theta1\n",
    "                elif theta1 > 2*np.pi:\n",
    "                    ptheta1 = -ptheta1\n",
    "                    theta1 = 2*np.pi-(theta1-2*np.pi)\n",
    "                elif theta2 < 0:\n",
    "                    ptheta2 = -ptheta2\n",
    "                    theta2 = -theta2\n",
    "                elif theta2 > 2*np.pi:\n",
    "                    ptheta2 = -ptheta2\n",
    "                    theta2 = 2*np.pi-(theta2-2*np.pi)\n",
    "                \n",
    "            pr1 = pr1 #reasign momenta (just a formality, as here the gradient of potential energy is always 0)\n",
    "            pr2 = pr2\n",
    "            ptheta1 = ptheta1\n",
    "            ptheta2 = ptheta2\n",
    "            \n",
    "        H = pr1**2/(2*mr1)+pr2**2/(2*mr2)+ptheta1**2/(2*mtheta1)+ptheta2**2/(2*mtheta2)\n",
    "        it += 1\n",
    "        if it > warmup:\n",
    "            prob = np.random.random()\n",
    "            if prob < min([1,np.exp(H_0-H)]):  #Metropolis-Hastings acceptance step (just a formality as acceptance rate will be, on this case, 1.0)\n",
    "                distance.append(4/R**2*np.sqrt(r1**2+r2**2-2*r1*r2*np.cos(theta1-theta2))*r1*r2)\n",
    "            else:\n",
    "                distance.append(distance[-1])\n",
    "    \n",
    "    if full == False: \n",
    "        return (np.mean(distance))\n",
    "    else: \n",
    "        return (np.mean(distance), distance)"
   ]
  },
  {
   "cell_type": "code",
   "execution_count": 17,
   "metadata": {},
   "outputs": [
    {
     "data": {
      "text/plain": [
       "1.1719057304217888"
      ]
     },
     "execution_count": 17,
     "metadata": {},
     "output_type": "execute_result"
    }
   ],
   "source": [
    "RHMC_disk(0.01, 100, R = 1, mr1 = 1, mr2 = 1, number_of_points =  10)"
   ]
  },
  {
   "cell_type": "code",
   "execution_count": 18,
   "metadata": {},
   "outputs": [],
   "source": [
    "estimation = []\n",
    "for runs in range(500):\n",
    "    estimation.append(RHMC_disk(0.01, 100))"
   ]
  },
  {
   "cell_type": "code",
   "execution_count": 19,
   "metadata": {},
   "outputs": [],
   "source": [
    "means = []\n",
    "for index in range(1, 499):\n",
    "    means.append(np.mean(estimation[:index]))"
   ]
  },
  {
   "cell_type": "code",
   "execution_count": 20,
   "metadata": {},
   "outputs": [
    {
     "data": {
      "image/png": "[encoded data removed]",
      "text/plain": [
       "<Figure size 432x288 with 1 Axes>"
      ]
     },
     "metadata": {
      "needs_background": "light"
     },
     "output_type": "display_data"
    }
   ],
   "source": [
    "plt.plot(range(len(means)), means)\n",
    "plt.plot(range(len(means)), 128/(45*np.pi)*np.ones(len(means)), 'r--')\n",
    "plt.title('RHMC estimation')\n",
    "plt.xlabel('chains')\n",
    "plt.show()"
   ]
  },
  {
   "cell_type": "code",
   "execution_count": 21,
   "metadata": {},
   "outputs": [
    {
     "data": {
      "image/png": "[encoded data removed]",
      "text/plain": [
       "<Figure size 432x288 with 1 Axes>"
      ]
     },
     "metadata": {
      "needs_background": "light"
     },
     "output_type": "display_data"
    }
   ],
   "source": [
    "estimation = RHMC_disk(0.01, 100, full = True, number_of_points = 1000)[1]\n",
    "means = []\n",
    "for index in range(1, 999):\n",
    "    means.append(np.mean(estimation[:index]))\n",
    "\n",
    "plt.plot(range(len(means)), means)\n",
    "plt.plot(range(len(means)), 128/(45*np.pi)*np.ones(len(means)), 'r--')\n",
    "plt.title('RHMC estimation')\n",
    "plt.xlabel('number of points')\n",
    "plt.show()"
   ]
  },
  {
   "cell_type": "code",
   "execution_count": 22,
   "metadata": {},
   "outputs": [],
   "source": [
    "def Gelman_RHMC_disk(epsilon, L, R = 1, mr1 = 1, mr2 = 1, mtheta1 = 1, mtheta2 = 1, number_of_points = 1000, warmup = 30, number_of_chains = 100):\n",
    "    '''\n",
    "    Computes the Gelman-Rubin coefficient R_hat for a Markov method of RHMC for the mean distances of points sampled uniformly in a disk\n",
    "    Inputs: epsilon, stepsize for leapfrog; L, number of integration steps for leapfrog; R = 1, radius of the disk which we are interest at; r1_0 = 1, initial point to take r1; r2_0 = 1, initial point to take r2; theta1_0, initial point to take theta1; theta2_0, initial point to take theta2; mr1 = 1; mr2 = 1; mtheta1 = 1; mtheta2 = 1; number_of_points = 10000, number of points to be sampled;  warmup = 30, number of initial iterations to be discarded; number of chains used in computing R_hat\n",
    "    Outputs: the coefficient R_hat\n",
    "    '''\n",
    "    set_of_chains = np.array(RHMC_disk(epsilon, L, R = R, mr1 = mr1, mr2 = mr2, mtheta1 = mtheta1, mtheta2 = mtheta2, number_of_points = number_of_points, full = True, warmup = warmup)[1])\n",
    "    for chain in range(number_of_chains-1):\n",
    "        new_chain = np.array(RHMC_disk(epsilon, L, R = R, mr1 = mr1, mr2 = mr2, mtheta1 = mtheta1, mtheta2 = mtheta2, number_of_points = number_of_points, full = True, warmup = warmup)[1])\n",
    "        set_of_chains = np.vstack((set_of_chains, new_chain))\n",
    "    \n",
    "    #takes the mean of all chains' entries\n",
    "    full_mean = np.mean(set_of_chains)\n",
    "    \n",
    "    #computes the summation part of the definition of B\n",
    "    summation_b = 0\n",
    "    for index in range(number_of_points):\n",
    "        summation_b += (np.mean(set_of_chains[:,index]-full_mean))**2\n",
    "    #computes B\n",
    "    b = number_of_points/(number_of_chains-1)*summation_b\n",
    "    \n",
    "    #computes the summation part of the definition of W\n",
    "    summation_w = 0\n",
    "    for index in range(number_of_points):\n",
    "        mean_index  = np.mean(set_of_chains[:,index])             \n",
    "        for chain in range(number_of_chains):\n",
    "            summation_w += (set_of_chains[chain,index]-mean_index)**2\n",
    "    #computes W\n",
    "    w = 1/(number_of_chains*(number_of_points-1))*summation_w\n",
    "    \n",
    "    R_hat = np.sqrt(((1-1/number_of_points)*w+b/number_of_points)/w)\n",
    "    return R_hat"
   ]
  },
  {
   "cell_type": "code",
   "execution_count": 23,
   "metadata": {},
   "outputs": [
    {
     "data": {
      "text/plain": [
       "1.0524861470758535"
      ]
     },
     "execution_count": 23,
     "metadata": {},
     "output_type": "execute_result"
    }
   ],
   "source": [
    "Gelman_RHMC_disk(0.01, 100, number_of_points = 1000, number_of_chains = 100)"
   ]
  },
  {
   "cell_type": "code",
   "execution_count": 24,
   "metadata": {},
   "outputs": [],
   "source": [
    "def Geweke_RHMC_disk(epsilon, L, R = 1, mr1 = 1, mr2 = 1, mtheta1 = 1, mtheta2 = 1, number_of_points = 1000, warmup = 30, number_of_chains = 100, na = 0.5, nb = 0.1):\n",
    "    na_int = int(na*number_of_points)\n",
    "    nb_int = int(nb*number_of_points)\n",
    "    \n",
    "    diff = []\n",
    "    for chain in range(number_of_chains):\n",
    "        estimation = np.array(RHMC_disk(epsilon, L, R = R, mr1 = mr1, mr2 = mr2, mtheta1 = mtheta1, mtheta2 = mtheta2, number_of_points = number_of_points, full = True, warmup = warmup)[1])\n",
    "        diff.append(np.mean(estimation[:nb_int])-np.mean(estimation[na_int:]))\n",
    "    plt.hist(diff, bins = int(number_of_chains/10))\n",
    "    return"
   ]
  },
  {
   "cell_type": "code",
   "execution_count": 25,
   "metadata": {},
   "outputs": [
    {
     "data": {
      "image/png": "[encoded data removed]",
      "text/plain": [
       "<Figure size 432x288 with 1 Axes>"
      ]
     },
     "metadata": {
      "needs_background": "light"
     },
     "output_type": "display_data"
    }
   ],
   "source": [
    "Geweke_RHMC_disk(0.01, 100, number_of_points = 1000, number_of_chains = 500)"
   ]
  },
  {
   "cell_type": "code",
   "execution_count": 26,
   "metadata": {},
   "outputs": [],
   "source": [
    "def ACF_disk(number_of_chains = 100):\n",
    "    '''\n",
    "    Computes the autocorrelation factor for 40 lags and number_of_chains runs\n",
    "    Input = number_of_chains = 100, number of runs to be computed\n",
    "    '''\n",
    "    mean, distribution  = RHMC_disk(0.01, 100, number_of_points = 1000, full = True)\n",
    "    n = len(distribution)\n",
    "    variance = np.std(distribution)**2\n",
    "\n",
    "    autocorrelations = []\n",
    "    for k in range(0, 40):\n",
    "        sum_k = 0\n",
    "        for j in range(n-k-1):\n",
    "            sum_k += (distribution[j]-mean)*(distribution[j+k]-mean)\n",
    "        autocorrelations.append(sum_k/((n-k)*variance))\n",
    "    total_autocorrelations = np.array(autocorrelations)\n",
    "\n",
    "    for chain in range(number_of_chains-1):\n",
    "        mean, distribution  = RHMC_disk(0.01, 100, number_of_points = 1000, full = True)\n",
    "        variance = np.std(distribution)**2\n",
    "\n",
    "        autocorrelations = []\n",
    "        for k in range(0, 40):\n",
    "            sum_k = 0\n",
    "            for j in range(n-k-1):\n",
    "                sum_k += (distribution[j]-mean)*(distribution[j+k]-mean)\n",
    "            autocorrelations.append(sum_k/((n-k)*variance))\n",
    "        total_autocorrelations = np.vstack((total_autocorrelations, autocorrelations))\n",
    "    return np.mean(total_autocorrelations, axis = 0)"
   ]
  },
  {
   "cell_type": "code",
   "execution_count": 27,
   "metadata": {},
   "outputs": [
    {
     "data": {
      "image/png": "[encoded data removed]",
      "text/plain": [
       "<Figure size 432x288 with 1 Axes>"
      ]
     },
     "metadata": {
      "needs_background": "light"
     },
     "output_type": "display_data"
    }
   ],
   "source": [
    "plt.bar(range(40), ACF_disk(),  width = 0.4) \n",
    "plt.show()"
   ]
  },
  {
   "cell_type": "code",
   "execution_count": 28,
   "metadata": {},
   "outputs": [],
   "source": [
    "def inefficiency_disk(k = 20, n = 100000, alpha = 0.95):\n",
    "    '''\n",
    "    Computes the inefficiency factor of the method using the batch method and confidence levels for estimation\n",
    "    Input: k = 20, number of batches, n = 100000, number of samples; alpha = 0.95, confidence level to be computed\n",
    "    Ouput: inefficiency factor tau**2; lower bound of confidence level; upper bound of confidence level\n",
    "    '''\n",
    "    mean, distribution  = RHMC_disk(0.01, 100, number_of_points = n, full = True)\n",
    "    m = int(n/k)\n",
    "    summation = 0\n",
    "    \n",
    "    for j in range(k):\n",
    "        mean_batch = np.mean(distribution[j*m:(j+1)*m])\n",
    "        summation += (mean_batch-mean)**2\n",
    "    \n",
    "    tau_sqrd_overn = summation/(k*(k-1))\n",
    "    \n",
    "    return tau_sqrd_overn*n, 128/(45*np.pi)-np.sqrt(tau_sqrd_overn)*t.ppf(1-(1-alpha)/2, k-1), 128/(45*np.pi)+np.sqrt(tau_sqrd_overn)*t.ppf(1-(1-alpha)/2, k-1)"
   ]
  },
  {
   "cell_type": "code",
   "execution_count": 29,
   "metadata": {},
   "outputs": [
    {
     "data": {
      "text/plain": [
       "(2.14319557453744, 0.8957252036022959, 0.9151043711321577)"
      ]
     },
     "execution_count": 29,
     "metadata": {},
     "output_type": "execute_result"
    }
   ],
   "source": [
    "inefficiency_disk()"
   ]
  },
  {
   "cell_type": "code",
   "execution_count": 30,
   "metadata": {},
   "outputs": [],
   "source": [
    "def inefficiency_calculator(data, k = 20):\n",
    "    '''\n",
    "    Computes the inefficiency factor for a general dataset\n",
    "    Input: data; k = 20, number of batches\n",
    "    '''\n",
    "    mean  = np.mean(data)\n",
    "    n =  len(data)\n",
    "    m = int(n/k)\n",
    "    summation = 0\n",
    "    \n",
    "    for j in range(k):\n",
    "        mean_batch = np.mean(data[j*m:(j+1)*m])\n",
    "        summation += (mean_batch-mean)**2\n",
    "    \n",
    "    tau_sqrd_overn = summation/(k*(k-1))\n",
    "    \n",
    "    return tau_sqrd_overn"
   ]
  },
  {
   "cell_type": "code",
   "execution_count": 31,
   "metadata": {},
   "outputs": [],
   "source": [
    "start = time.time()\n",
    "bias = []\n",
    "variance = []\n",
    "mcse = []\n",
    "for R in [0.01, 0.1, 1, 10, 100, 1000, 10000]:\n",
    "    theoretical = 128*R/(45*np.pi)\n",
    "    estimation = []\n",
    "    for run in range(500):\n",
    "        estimation += RHMC_disk(0.01, 100, R = R, mr1 = 1/R**2, mr2 = 1/R**2, mtheta1 = 1, mtheta2 = 1, number_of_points = 1000, full = True, warmup = 30)[1]\n",
    "    bias.append(np.mean(estimation)-theoretical)\n",
    "    variance.append(np.std(estimation)**2)\n",
    "    mcse.append(np.sqrt(inefficiency_calculator(estimation)))\n",
    "end = time.time()"
   ]
  },
  {
   "cell_type": "code",
   "execution_count": 32,
   "metadata": {},
   "outputs": [
    {
     "name": "stdout",
     "output_type": "stream",
     "text": [
      "331.44016218185425\n"
     ]
    }
   ],
   "source": [
    "print(end-start)"
   ]
  },
  {
   "cell_type": "code",
   "execution_count": 33,
   "metadata": {},
   "outputs": [
    {
     "data": {
      "text/plain": [
       "5.121469748020172"
      ]
     },
     "execution_count": 33,
     "metadata": {},
     "output_type": "execute_result"
    }
   ],
   "source": [
    "307.2881848812103/60"
   ]
  },
  {
   "cell_type": "code",
   "execution_count": 34,
   "metadata": {},
   "outputs": [
    {
     "data": {
      "text/html": [
       "<div>\n",
       "<style scoped>\n",
       "    .dataframe tbody tr th:only-of-type {\n",
       "        vertical-align: middle;\n",
       "    }\n",
       "\n",
       "    .dataframe tbody tr th {\n",
       "        vertical-align: top;\n",
       "    }\n",
       "\n",
       "    .dataframe thead th {\n",
       "        text-align: right;\n",
       "    }\n",
       "</style>\n",
       "<table border=\"1\" class=\"dataframe\">\n",
       "  <thead>\n",
       "    <tr style=\"text-align: right;\">\n",
       "      <th></th>\n",
       "      <th>Bias</th>\n",
       "      <th>Variance</th>\n",
       "      <th>MCSE</th>\n",
       "    </tr>\n",
       "  </thead>\n",
       "  <tbody>\n",
       "    <tr>\n",
       "      <th>0.01</th>\n",
       "      <td>-0.000001</td>\n",
       "      <td>1.315419e-04</td>\n",
       "      <td>0.000012</td>\n",
       "    </tr>\n",
       "    <tr>\n",
       "      <th>0.10</th>\n",
       "      <td>0.000042</td>\n",
       "      <td>1.314747e-02</td>\n",
       "      <td>0.000186</td>\n",
       "    </tr>\n",
       "    <tr>\n",
       "      <th>1.00</th>\n",
       "      <td>-0.001736</td>\n",
       "      <td>1.309230e+00</td>\n",
       "      <td>0.001579</td>\n",
       "    </tr>\n",
       "    <tr>\n",
       "      <th>10.00</th>\n",
       "      <td>0.013576</td>\n",
       "      <td>1.313761e+02</td>\n",
       "      <td>0.018014</td>\n",
       "    </tr>\n",
       "    <tr>\n",
       "      <th>100.00</th>\n",
       "      <td>-0.261105</td>\n",
       "      <td>1.306275e+04</td>\n",
       "      <td>0.180661</td>\n",
       "    </tr>\n",
       "    <tr>\n",
       "      <th>1000.00</th>\n",
       "      <td>0.419884</td>\n",
       "      <td>1.314343e+06</td>\n",
       "      <td>1.908564</td>\n",
       "    </tr>\n",
       "    <tr>\n",
       "      <th>10000.00</th>\n",
       "      <td>4.925451</td>\n",
       "      <td>1.309968e+08</td>\n",
       "      <td>21.492320</td>\n",
       "    </tr>\n",
       "  </tbody>\n",
       "</table>\n",
       "</div>"
      ],
      "text/plain": [
       "              Bias      Variance       MCSE\n",
       "0.01     -0.000001  1.315419e-04   0.000012\n",
       "0.10      0.000042  1.314747e-02   0.000186\n",
       "1.00     -0.001736  1.309230e+00   0.001579\n",
       "10.00     0.013576  1.313761e+02   0.018014\n",
       "100.00   -0.261105  1.306275e+04   0.180661\n",
       "1000.00   0.419884  1.314343e+06   1.908564\n",
       "10000.00  4.925451  1.309968e+08  21.492320"
      ]
     },
     "execution_count": 34,
     "metadata": {},
     "output_type": "execute_result"
    }
   ],
   "source": [
    "data = {'Bias':bias, 'Variance':variance, 'MCSE': mcse} \n",
    "df = pd.DataFrame(data, index = [0.01,0.1,1,10,100,1000,10000]) \n",
    "df"
   ]
  },
  {
   "cell_type": "markdown",
   "metadata": {},
   "source": [
    "# Generalized RHMC 2D Disk"
   ]
  },
  {
   "cell_type": "code",
   "execution_count": 35,
   "metadata": {},
   "outputs": [],
   "source": [
    "def polar(x,y):\n",
    "    r = np.sqrt(x**2+y**2)\n",
    "    if x == 0 and y > 0:\n",
    "        theta = np.pi/2\n",
    "    elif x == 0 and y < 0:\n",
    "        theta = 3/2*np.pi\n",
    "    elif x == 0 and y == 0:\n",
    "        theta = 0\n",
    "    else:\n",
    "        angle = np.arctan(y/x)  #first quadrant\n",
    "        if x > 0 and y >= 0:\n",
    "            theta = angle\n",
    "        elif x > 0 and y < 0: #second quadrant\n",
    "            theta = 2*np.pi+angle\n",
    "        elif x < 0 and y > 0: #third quadrant\n",
    "            theta = np.pi+angle\n",
    "        elif x < 0 and y < 0: #fourth quadrant\n",
    "            theta = np.pi+angle\n",
    "    \n",
    "    return (r, theta)"
   ]
  },
  {
   "cell_type": "code",
   "execution_count": 36,
   "metadata": {},
   "outputs": [],
   "source": [
    "def general_RHMC(epsilon, L, R = 1, correction_factor = 1, m = 1, number_of_points = 1000, warmup = 30, number_of_collisions = False):\n",
    "    '''\n",
    "    Samples from the unfiform distribution on a disk of radius R. \n",
    "    Inputs: epsilon, stepsize for leapfrog; L, number of integration steps for leapfrog; R = 1, radius of the disk which we are interest at; correction_factor = number to multiply the initial sapled value of x and y so to go over the full circle; m = 1; number_of_points = 10000, number of points to be sampled;  warmup = 30, number of initial iterations to be discarded; number_of_collisions = False, if true, keeps track of avarage the number of collisions with the boundary per integration time \n",
    "    Output: sampled points\n",
    "    '''\n",
    "    distribution = []\n",
    "    it = 0\n",
    "    if number_of_collisions == True:\n",
    "        col = 0\n",
    "    #initialize the coordinated\n",
    "    x, y = correction_factor*np.random.normal(), correction_factor*np.random.normal()\n",
    "    while polar(x,y)[0]>R:\n",
    "        x, y = correction_factor*np.random.random(), correction_factor*np.random.random()\n",
    "    \n",
    "    for run in range(number_of_points+warmup): #leapfrog\n",
    "        px = np.random.normal(scale =  m**(1/2)) #samples px as N(0, m)\n",
    "        py = np.random.normal(scale =  m**(1/2)) #samples py as N(0, m)\n",
    "       \n",
    "        H_0 = px**2/(2*m)+py**2/(2*m)\n",
    "        \n",
    "        for integration in range(L):\n",
    "            #updates in in variables by Hamilton's equations\n",
    "            px = px\n",
    "            py = py\n",
    "            \n",
    "            x += epsilon*px/m\n",
    "            y += epsilon*py/m\n",
    "            \n",
    "            r, theta = polar(x,y)\n",
    "            while r > R: #if in forbidden region\n",
    "                vx = px/m\n",
    "                vy = py/m \n",
    "                vr = (x*vx+y*vy)/(np.sqrt(x**2+y**2))\n",
    "                vtheta = (-vx*y+x*vy)/(x**2+y**2)\n",
    "                delta = (r-R)/vr\n",
    "\n",
    "                vr = -vr\n",
    "                vx = vr*np.cos(theta)-R*vtheta*np.sin(theta)\n",
    "                vy = vr*np.sin(theta)+R*vtheta*np.cos(theta)\n",
    "                px = vx*m\n",
    "                py = vy*m\n",
    "                x = R*np.cos(theta)+delta*px/m\n",
    "                y = R*np.sin(theta)+delta*py/m\n",
    "                r, theta = polar(x,y)\n",
    "                if number_of_collisions == True:\n",
    "                    col += 1\n",
    "                \n",
    "            px = px #reasign momenta (just a formality, as here the gradient of potential energy is always 0)\n",
    "            py = py\n",
    "            \n",
    "        H =  px**2/(2*m)+py**2/(2*m)\n",
    "        it += 1\n",
    "        if it > warmup:\n",
    "            prob = np.random.random()\n",
    "            if prob < min([1,np.exp(H_0-H)]):  #Metropolis-Hastings acceptance step (just a formality as acceptance rate will be, on this case, 1.0)\n",
    "                distribution.append([x,y])\n",
    "            else:\n",
    "                distribution.append(distribution[-1])\n",
    "                print(H_0, H)\n",
    "    \n",
    "    if number_of_collisions == True:\n",
    "        print(col/number_of_points)\n",
    "    return np.array(distribution)"
   ]
  },
  {
   "cell_type": "code",
   "execution_count": 37,
   "metadata": {},
   "outputs": [
    {
     "data": {
      "text/plain": [
       "(0.9091349449033373, 0.40831580008742197)"
      ]
     },
     "execution_count": 37,
     "metadata": {},
     "output_type": "execute_result"
    }
   ],
   "source": [
    "distribution = np.linalg.norm(general_RHMC(0.01, 100, R = 1)-general_RHMC(0.01, 100, R = 1), axis = 1)\n",
    "np.mean(distribution), np.std(distribution)"
   ]
  },
  {
   "cell_type": "code",
   "execution_count": 38,
   "metadata": {},
   "outputs": [
    {
     "name": "stdout",
     "output_type": "stream",
     "text": [
      "0.78764\n"
     ]
    }
   ],
   "source": [
    "_ = general_RHMC(0.01, 100, R = 1, number_of_points = 100000, number_of_collisions = True)"
   ]
  },
  {
   "cell_type": "code",
   "execution_count": 39,
   "metadata": {},
   "outputs": [],
   "source": [
    "epsilon = 0.1\n",
    "x = 0.4\n",
    "y = 0\n",
    "px = 1\n",
    "py = 1\n",
    "m = 1\n",
    "R = 1\n",
    "\n",
    "xs = []\n",
    "ys =[]\n",
    "for integration in range(100):\n",
    "            #updates in in variables by Hamilton's equations\n",
    "    px = px\n",
    "    py = py\n",
    "\n",
    "    x += epsilon*px/m\n",
    "    y += epsilon*py/m\n",
    "\n",
    "    r, theta = polar(x,y)\n",
    "    while r > R: #if in forbidden region\n",
    "        vx = px/m\n",
    "        vy = py/m \n",
    "        vr = (x*vx+y*vy)/(np.sqrt(x**2+y**2))\n",
    "        vtheta = (-vx*y+x*vy)/(x**2+y**2)\n",
    "        delta = (r-R)/vr\n",
    "\n",
    "        vr = -vr\n",
    "        vx = vr*np.cos(theta)-R*vtheta*np.sin(theta)\n",
    "        vy = vr*np.sin(theta)+R*vtheta*np.cos(theta)\n",
    "        px = vx*m\n",
    "        py = vy*m\n",
    "        x = R*np.cos(theta)+delta*px/m\n",
    "        y = R*np.sin(theta)+delta*py/m\n",
    "        r, theta = polar(x,y)\n",
    "\n",
    "    px = px #reasign momenta (just a formality, as here the gradient of potential energy is always 0)\n",
    "    py = py\n",
    "    xs.append(x)\n",
    "    ys.append(y)"
   ]
  },
  {
   "cell_type": "code",
   "execution_count": 40,
   "metadata": {
    "scrolled": true
   },
   "outputs": [
    {
     "data": {
      "image/png": "[encoded data removed]",
      "text/plain": [
       "<Figure size 432x288 with 1 Axes>"
      ]
     },
     "metadata": {
      "needs_background": "light"
     },
     "output_type": "display_data"
    }
   ],
   "source": [
    "plt.scatter(xs, ys, cmap = 'spring', c = range(len(xs)))\n",
    "x = np.linspace(-1,1,1000)\n",
    "plt.plot(x, np.sqrt(1-x**2), c = 'green', linewidth = 4)\n",
    "plt.plot(x, -np.sqrt(1-x**2),  c = 'green', linewidth = 4)\n",
    "plt.axis('off')\n",
    "plt.gca().set_aspect('equal')\n",
    "plt.show()"
   ]
  },
  {
   "cell_type": "code",
   "execution_count": 41,
   "metadata": {
    "scrolled": true
   },
   "outputs": [
    {
     "data": {
      "image/png": "[encoded data removed]",
      "text/plain": [
       "<Figure size 432x288 with 1 Axes>"
      ]
     },
     "metadata": {
      "needs_background": "light"
     },
     "output_type": "display_data"
    },
    {
     "data": {
      "image/png": "[encoded data removed]",
      "text/plain": [
       "<Figure size 432x288 with 1 Axes>"
      ]
     },
     "metadata": {
      "needs_background": "light"
     },
     "output_type": "display_data"
    },
    {
     "data": {
      "image/png": "[encoded data removed]",
      "text/plain": [
       "<Figure size 432x288 with 1 Axes>"
      ]
     },
     "metadata": {
      "needs_background": "light"
     },
     "output_type": "display_data"
    },
    {
     "data": {
      "image/png": "[encoded data removed]",
      "text/plain": [
       "<Figure size 432x288 with 1 Axes>"
      ]
     },
     "metadata": {
      "needs_background": "light"
     },
     "output_type": "display_data"
    }
   ],
   "source": [
    "for epsilon in [0.001, 0.01, 0.1, 1]:\n",
    "    coord = general_RHMC(epsilon, 100, m = 1, number_of_points = 10000, warmup = 30)\n",
    "    plt.hist2d(coord[:,0],coord[:,1])\n",
    "    plt.gca().set_aspect('equal', adjustable='box')\n",
    "    plt.title(epsilon)\n",
    "    plt.savefig('hist'+str(epsilon)+'.png')\n",
    "    plt.show()"
   ]
  },
  {
   "cell_type": "code",
   "execution_count": 42,
   "metadata": {},
   "outputs": [
    {
     "data": {
      "image/png": "[encoded data removed]",
      "text/plain": [
       "<Figure size 432x288 with 1 Axes>"
      ]
     },
     "metadata": {
      "needs_background": "light"
     },
     "output_type": "display_data"
    }
   ],
   "source": [
    "coord = general_RHMC(0.01, 100, R = 10000, m = 1/10000**2, number_of_points = 10000, warmup = 30)\n",
    "plt.hist2d(coord[:,0],coord[:,1])\n",
    "plt.gca().set_aspect('equal', adjustable='box')\n",
    "plt.show()"
   ]
  },
  {
   "cell_type": "code",
   "execution_count": 43,
   "metadata": {},
   "outputs": [
    {
     "data": {
      "text/plain": [
       "0.5064"
      ]
     },
     "execution_count": 43,
     "metadata": {},
     "output_type": "execute_result"
    }
   ],
   "source": [
    "coord = general_RHMC(0.01, 100, m = 1, number_of_points = 10000, warmup = 30)\n",
    "len(coord[np.linalg.norm(coord, axis = 1)<1/np.sqrt(2)])/len(coord)"
   ]
  },
  {
   "cell_type": "code",
   "execution_count": 44,
   "metadata": {},
   "outputs": [
    {
     "data": {
      "text/plain": [
       "0.6568"
      ]
     },
     "execution_count": 44,
     "metadata": {},
     "output_type": "execute_result"
    }
   ],
   "source": [
    "coord = general_RHMC(0.1, 100, m = 1, number_of_points = 10000, warmup = 30)\n",
    "len(coord[np.linalg.norm(coord, axis = 1)<1/np.sqrt(2)])/len(coord)"
   ]
  },
  {
   "cell_type": "code",
   "execution_count": 45,
   "metadata": {},
   "outputs": [
    {
     "data": {
      "text/plain": [
       "0.7177"
      ]
     },
     "execution_count": 45,
     "metadata": {},
     "output_type": "execute_result"
    }
   ],
   "source": [
    "coord = general_RHMC(1, 100, m = 1, number_of_points = 10000, warmup = 30)\n",
    "len(coord[np.linalg.norm(coord, axis = 1)<1/np.sqrt(2)])/len(coord)"
   ]
  },
  {
   "cell_type": "code",
   "execution_count": 46,
   "metadata": {},
   "outputs": [],
   "source": [
    "estimation = []\n",
    "for runs in range(500):\n",
    "    estimation.append(np.mean(np.linalg.norm(general_RHMC(0.01, 100)-general_RHMC(0.01, 100), axis = 1)))"
   ]
  },
  {
   "cell_type": "code",
   "execution_count": 47,
   "metadata": {},
   "outputs": [],
   "source": [
    "means = []\n",
    "for index in range(1, 499):\n",
    "    means.append(np.mean(estimation[:index]))"
   ]
  },
  {
   "cell_type": "code",
   "execution_count": 48,
   "metadata": {},
   "outputs": [
    {
     "data": {
      "image/png": "[encoded data removed]",
      "text/plain": [
       "<Figure size 432x288 with 1 Axes>"
      ]
     },
     "metadata": {
      "needs_background": "light"
     },
     "output_type": "display_data"
    }
   ],
   "source": [
    "plt.plot(range(len(means)), means)\n",
    "plt.plot(range(len(means)), 128/(45*np.pi)*np.ones(len(means)), 'r--')\n",
    "plt.title('RHMC estimation')\n",
    "plt.xlabel('chains')\n",
    "plt.show()"
   ]
  },
  {
   "cell_type": "code",
   "execution_count": 49,
   "metadata": {},
   "outputs": [
    {
     "data": {
      "image/png": "[encoded data removed]",
      "text/plain": [
       "<Figure size 432x288 with 1 Axes>"
      ]
     },
     "metadata": {
      "needs_background": "light"
     },
     "output_type": "display_data"
    }
   ],
   "source": [
    "estimation = np.linalg.norm(general_RHMC(0.01, 100)-general_RHMC(0.01, 100), axis = 1)\n",
    "means = []\n",
    "for index in range(1, 999):\n",
    "    means.append(np.mean(estimation[:index]))\n",
    "\n",
    "plt.plot(range(len(means)), means)\n",
    "plt.plot(range(len(means)), 128/(45*np.pi)*np.ones(len(means)), 'r--')\n",
    "plt.title('RHMC estimation')\n",
    "plt.xlabel('number of points')\n",
    "plt.show()"
   ]
  },
  {
   "cell_type": "code",
   "execution_count": 50,
   "metadata": {},
   "outputs": [],
   "source": [
    "def Gelman_general_RHMC(epsilon, L, R = 1, correction_factor = 1, m = 1, number_of_points = 1000, warmup = 30, number_of_chains = 100):\n",
    "    '''\n",
    "    Computes the Gelman-Rubin coefficient R_hat for a Markov method of RHMC for the mean distances of points sampled uniformly in a disk\n",
    "    Inputs: epsilon, stepsize for leapfrog; L, number of integration steps for leapfrog; R = 1, radius of the disk which we are interest at; r1_0 = 1, initial point to take r1; r2_0 = 1, initial point to take r2; theta1_0, initial point to take theta1; theta2_0, initial point to take theta2; mr1 = 1; mr2 = 1; mtheta1 = 1; mtheta2 = 1; number_of_points = 10000, number of points to be sampled;  warmup = 30, number of initial iterations to be discarded; number of chains used in computing R_hat\n",
    "    Outputs: the coefficient R_hat\n",
    "    '''\n",
    "    set_of_chains = np.array(np.linalg.norm(general_RHMC(epsilon, L, R = R, correction_factor = correction_factor, m = m, number_of_points = number_of_points, warmup = warmup)-general_RHMC(epsilon, L, R = R, correction_factor = correction_factor, m = m, number_of_points = number_of_points, warmup = warmup), axis = 1))\n",
    "    for chain in range(number_of_chains-1):\n",
    "        new_chain = np.array(np.linalg.norm(general_RHMC(epsilon, L, R = R, correction_factor = correction_factor, m = m, number_of_points = number_of_points, warmup = warmup)-general_RHMC(epsilon, L, R = R, correction_factor = correction_factor, m = m, number_of_points = number_of_points, warmup = warmup), axis = 1))\n",
    "        set_of_chains = np.vstack((set_of_chains, new_chain))\n",
    "    \n",
    "    #takes the mean of all chains' entries\n",
    "    full_mean = np.mean(set_of_chains)\n",
    "    \n",
    "    #computes the summation part of the definition of B\n",
    "    summation_b = 0\n",
    "    for index in range(number_of_points):\n",
    "        summation_b += (np.mean(set_of_chains[:,index]-full_mean))**2\n",
    "    #computes B\n",
    "    b = number_of_points/(number_of_chains-1)*summation_b\n",
    "    \n",
    "    #computes the summation part of the definition of W\n",
    "    summation_w = 0\n",
    "    for index in range(number_of_points):\n",
    "        mean_index  = np.mean(set_of_chains[:,index])             \n",
    "        for chain in range(number_of_chains):\n",
    "            summation_w += (set_of_chains[chain,index]-mean_index)**2\n",
    "    #computes W\n",
    "    w = 1/(number_of_chains*(number_of_points-1))*summation_w\n",
    "    \n",
    "    R_hat = np.sqrt(((1-1/number_of_points)*w+b/number_of_points)/w)\n",
    "    return R_hat"
   ]
  },
  {
   "cell_type": "code",
   "execution_count": 51,
   "metadata": {},
   "outputs": [
    {
     "data": {
      "text/plain": [
       "1.0455050589176342"
      ]
     },
     "execution_count": 51,
     "metadata": {},
     "output_type": "execute_result"
    }
   ],
   "source": [
    "Gelman_general_RHMC(0.01, 100)"
   ]
  },
  {
   "cell_type": "code",
   "execution_count": 52,
   "metadata": {},
   "outputs": [],
   "source": [
    "def Geweke_general_RHMC(epsilon, L, R = 1, correction_factor = 1, m = 1, number_of_points = 1000, warmup = 30, number_of_chains = 100, na = 0.5, nb = 0.1):\n",
    "    na_int = int(na*number_of_points)\n",
    "    nb_int = int(nb*number_of_points)\n",
    "    \n",
    "    diff = []\n",
    "    for chain in range(number_of_chains):\n",
    "        estimation = np.array(np.linalg.norm(general_RHMC(epsilon, L, R = R, correction_factor = correction_factor, m = m, number_of_points = number_of_points, warmup = warmup)-general_RHMC(epsilon, L, R = R, correction_factor = correction_factor, m = m, number_of_points = number_of_points, warmup = warmup), axis = 1))\n",
    "        diff.append(np.mean(estimation[:nb_int])-np.mean(estimation[na_int:]))\n",
    "    plt.hist(diff, bins = int(number_of_chains/10))\n",
    "    return"
   ]
  },
  {
   "cell_type": "code",
   "execution_count": 53,
   "metadata": {},
   "outputs": [
    {
     "data": {
      "image/png": "[encoded data removed]",
      "text/plain": [
       "<Figure size 432x288 with 1 Axes>"
      ]
     },
     "metadata": {
      "needs_background": "light"
     },
     "output_type": "display_data"
    }
   ],
   "source": [
    "Geweke_general_RHMC(0.01, 100, number_of_chains = 500)"
   ]
  },
  {
   "cell_type": "code",
   "execution_count": 54,
   "metadata": {},
   "outputs": [],
   "source": [
    "def ACF_general_RHMC(number_of_chains = 100):\n",
    "    '''\n",
    "    Computes the autocorrelation factor for 40 lags and number_of_chains runs\n",
    "    Input = number_of_chains = 100, number of runs to be computed\n",
    "    '''\n",
    "    distribution  = np.linalg.norm(general_RHMC(0.01, 100, number_of_points = 1000)-general_RHMC(0.01, 100, number_of_points = 1000), axis = 1)\n",
    "    mean = np.mean(distribution)\n",
    "    variance = np.std(distribution)**2\n",
    "    n = len(distribution)\n",
    "    \n",
    "    #calculates autocorrelation for a single chain\n",
    "    autocorrelations = []\n",
    "    for k in range(0, 40):\n",
    "        sum_k = 0\n",
    "        for j in range(n-k-1):\n",
    "            sum_k += (distribution[j]-mean)*(distribution[j+k]-mean)\n",
    "        autocorrelations.append(sum_k/((n-k)*variance))\n",
    "    total_autocorrelations = np.array(autocorrelations)\n",
    "    \n",
    "    #calculates autocorrelation for other chains and avarage the result\n",
    "    for chain in range(number_of_chains-1):\n",
    "        distribution  = np.linalg.norm(general_RHMC(0.01, 100, number_of_points = 1000)-general_RHMC(0.01, 100, number_of_points = 1000), axis = 1)\n",
    "        mean = np.mean(distribution)\n",
    "        variance = np.std(distribution)**2\n",
    "\n",
    "        autocorrelations = []\n",
    "        for k in range(0, 40):\n",
    "            sum_k = 0\n",
    "            for j in range(n-k-1):\n",
    "                sum_k += (distribution[j]-mean)*(distribution[j+k]-mean)\n",
    "            autocorrelations.append(sum_k/((n-k)*variance))\n",
    "        total_autocorrelations = np.vstack((total_autocorrelations, autocorrelations))\n",
    "    return np.mean(total_autocorrelations, axis = 0)"
   ]
  },
  {
   "cell_type": "code",
   "execution_count": 55,
   "metadata": {},
   "outputs": [
    {
     "data": {
      "image/png": "[encoded data removed]",
      "text/plain": [
       "<Figure size 432x288 with 1 Axes>"
      ]
     },
     "metadata": {
      "needs_background": "light"
     },
     "output_type": "display_data"
    }
   ],
   "source": [
    "plt.bar(range(40), ACF_general_RHMC(),  width = 0.4) \n",
    "plt.show()"
   ]
  },
  {
   "cell_type": "code",
   "execution_count": 56,
   "metadata": {},
   "outputs": [],
   "source": [
    "def inefficiency_general_RHMC(k = 20, n = 100000, alpha = 0.95):\n",
    "    '''\n",
    "    Computes the inefficiency factor of the method using the batch method and confidence levels for estimation\n",
    "    Input: k = 20, number of batches, n = 100000, number of samples; alpha = 0.95, confidence level to be computed\n",
    "    Ouput: inefficiency factor tau**2; lower bound of confidence level; upper bound of confidence level\n",
    "    '''\n",
    "    distribution  = np.linalg.norm(general_RHMC(0.01, 100, number_of_points = n)-general_RHMC(0.01, 100, number_of_points = n), axis = 1)\n",
    "    m = int(n/k)\n",
    "    mean = np.mean(distribution)\n",
    "    summation = 0\n",
    "    \n",
    "    for j in range(k):\n",
    "        mean_batch = np.mean(distribution[j*m:(j+1)*m])\n",
    "        summation += (mean_batch-mean)**2\n",
    "    \n",
    "    tau_sqrd_overn = summation/(k*(k-1))\n",
    "    \n",
    "    return tau_sqrd_overn*n, 128/(45*np.pi)-np.sqrt(tau_sqrd_overn)*t.ppf(1-(1-alpha)/2, k-1), 128/(45*np.pi)+np.sqrt(tau_sqrd_overn)*t.ppf(1-(1-alpha)/2, k-1)"
   ]
  },
  {
   "cell_type": "code",
   "execution_count": 57,
   "metadata": {},
   "outputs": [
    {
     "data": {
      "text/plain": [
       "(0.20877575656472686, 0.9023905612987305, 0.9084390134357231)"
      ]
     },
     "execution_count": 57,
     "metadata": {},
     "output_type": "execute_result"
    }
   ],
   "source": [
    "inefficiency_general_RHMC()"
   ]
  },
  {
   "cell_type": "code",
   "execution_count": 58,
   "metadata": {},
   "outputs": [],
   "source": [
    "start = time.time()\n",
    "bias = []\n",
    "variance = []\n",
    "mcse = []\n",
    "for R in [0.01, 0.1, 1, 10, 100, 1000, 10000]:\n",
    "    theoretical = 128*R/(45*np.pi)\n",
    "    estimation = []\n",
    "    for run in range(500):\n",
    "        estimation += list(np.linalg.norm(general_RHMC(0.01, 100, R = R, correction_factor = R, m = 1/R**2, number_of_points = 1000, warmup = 30)-general_RHMC(0.01, 100, R = R, correction_factor = R, m = 1/R**2, number_of_points = 1000, warmup = 30), axis = 1))\n",
    "    bias.append(np.mean(estimation)-theoretical)\n",
    "    variance.append(np.std(estimation)**2)\n",
    "    mcse.append(np.sqrt(inefficiency_calculator(estimation)))\n",
    "end = time.time()"
   ]
  },
  {
   "cell_type": "code",
   "execution_count": 59,
   "metadata": {},
   "outputs": [
    {
     "name": "stdout",
     "output_type": "stream",
     "text": [
      "4008.9548242092133\n"
     ]
    }
   ],
   "source": [
    "print(end-start)"
   ]
  },
  {
   "cell_type": "code",
   "execution_count": 60,
   "metadata": {},
   "outputs": [
    {
     "data": {
      "text/html": [
       "<div>\n",
       "<style scoped>\n",
       "    .dataframe tbody tr th:only-of-type {\n",
       "        vertical-align: middle;\n",
       "    }\n",
       "\n",
       "    .dataframe tbody tr th {\n",
       "        vertical-align: top;\n",
       "    }\n",
       "\n",
       "    .dataframe thead th {\n",
       "        text-align: right;\n",
       "    }\n",
       "</style>\n",
       "<table border=\"1\" class=\"dataframe\">\n",
       "  <thead>\n",
       "    <tr style=\"text-align: right;\">\n",
       "      <th></th>\n",
       "      <th>Bias</th>\n",
       "      <th>Variance</th>\n",
       "      <th>MCSE</th>\n",
       "    </tr>\n",
       "  </thead>\n",
       "  <tbody>\n",
       "    <tr>\n",
       "      <th>0.01</th>\n",
       "      <td>-0.000027</td>\n",
       "      <td>1.791759e-05</td>\n",
       "      <td>0.000005</td>\n",
       "    </tr>\n",
       "    <tr>\n",
       "      <th>0.10</th>\n",
       "      <td>-0.000314</td>\n",
       "      <td>1.790880e-03</td>\n",
       "      <td>0.000055</td>\n",
       "    </tr>\n",
       "    <tr>\n",
       "      <th>1.00</th>\n",
       "      <td>-0.003787</td>\n",
       "      <td>1.791900e-01</td>\n",
       "      <td>0.000659</td>\n",
       "    </tr>\n",
       "    <tr>\n",
       "      <th>10.00</th>\n",
       "      <td>-0.037626</td>\n",
       "      <td>1.795050e+01</td>\n",
       "      <td>0.007533</td>\n",
       "    </tr>\n",
       "    <tr>\n",
       "      <th>100.00</th>\n",
       "      <td>-0.295686</td>\n",
       "      <td>1.789532e+03</td>\n",
       "      <td>0.078325</td>\n",
       "    </tr>\n",
       "    <tr>\n",
       "      <th>1000.00</th>\n",
       "      <td>-3.660029</td>\n",
       "      <td>1.792610e+05</td>\n",
       "      <td>0.624920</td>\n",
       "    </tr>\n",
       "    <tr>\n",
       "      <th>10000.00</th>\n",
       "      <td>-43.154879</td>\n",
       "      <td>1.791021e+07</td>\n",
       "      <td>6.469156</td>\n",
       "    </tr>\n",
       "  </tbody>\n",
       "</table>\n",
       "</div>"
      ],
      "text/plain": [
       "               Bias      Variance      MCSE\n",
       "0.01      -0.000027  1.791759e-05  0.000005\n",
       "0.10      -0.000314  1.790880e-03  0.000055\n",
       "1.00      -0.003787  1.791900e-01  0.000659\n",
       "10.00     -0.037626  1.795050e+01  0.007533\n",
       "100.00    -0.295686  1.789532e+03  0.078325\n",
       "1000.00   -3.660029  1.792610e+05  0.624920\n",
       "10000.00 -43.154879  1.791021e+07  6.469156"
      ]
     },
     "execution_count": 60,
     "metadata": {},
     "output_type": "execute_result"
    }
   ],
   "source": [
    "data = {'Bias':bias, 'Variance':variance, 'MCSE': mcse} \n",
    "df = pd.DataFrame(data, index = [0.01,0.1,1,10,100,1000,10000]) \n",
    "df"
   ]
  },
  {
   "cell_type": "code",
   "execution_count": null,
   "metadata": {},
   "outputs": [],
   "source": []
  }
 ],
 "metadata": {
  "kernelspec": {
   "display_name": "Python 3",
   "language": "python",
   "name": "python3"
  },
  "language_info": {
   "codemirror_mode": {
    "name": "ipython",
    "version": 3
   },
   "file_extension": ".py",
   "mimetype": "text/x-python",
   "name": "python",
   "nbconvert_exporter": "python",
   "pygments_lexer": "ipython3",
   "version": "3.8.5"
  }
 },
 "nbformat": 4,
 "nbformat_minor": 4
}
