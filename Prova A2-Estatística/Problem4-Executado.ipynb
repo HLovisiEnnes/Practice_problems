{
 "cells": [
  {
   "cell_type": "code",
   "execution_count": null,
   "metadata": {},
   "outputs": [
    {
     "data": {
      "image/png": "[encoded data removed]",
      "text/plain": [
       "<Figure size 432x288 with 1 Axes>"
      ]
     },
     "metadata": {
      "needs_background": "light"
     },
     "output_type": "display_data"
    },
    {
     "name": "stdout",
     "output_type": "stream",
     "text": [
      "\n",
      "\n",
      "\n",
      "Média de Probabilidade de Erro Tipo I com Minimizador Teórico\n",
      "                       10%      5%      1%\n",
      "Tamanho do Dataset                        \n",
      "10                  0.1548  0.1164  0.0994\n",
      "50                  0.0968  0.0658  0.0450\n",
      "100                 0.0990  0.0634  0.0286\n",
      "200                 0.0976  0.0552  0.0276\n",
      "500                 0.1052  0.0462  0.0262\n",
      "\n",
      "\n",
      "\n",
      "Desvio Padrão de Probabilidade de Erro Tipo I com Minimizador Teórico\n",
      "                         10%        5%        1%\n",
      "Tamanho do Dataset                              \n",
      "10                  0.361714  0.320704  0.299198\n",
      "50                  0.295685  0.247932  0.207304\n",
      "100                 0.298662  0.243681  0.166679\n",
      "200                 0.296773  0.228370  0.163824\n",
      "500                 0.306811  0.209918  0.159730\n",
      "\n",
      "\n",
      "\n",
      "Média de Probabilidade de Erro Tipo II com Minimizador Teórico\n",
      "                       10%      5%      1%\n",
      "Tamanho do Dataset                        \n",
      "10                  0.8860  0.9220  0.9436\n",
      "50                  0.7838  0.8852  0.9600\n",
      "100                 0.6326  0.7582  0.8596\n",
      "200                 0.4190  0.5330  0.6508\n",
      "500                 0.1076  0.1480  0.2276\n",
      "\n",
      "\n",
      "\n",
      "Desvio Padrão de Probabilidade de Erro Tipo II com Minimizador Teórico\n",
      "                         10%        5%        1%\n",
      "Tamanho do Dataset                              \n",
      "10                  0.317811  0.268172  0.230693\n",
      "50                  0.411652  0.318780  0.195959\n",
      "100                 0.482097  0.428174  0.347402\n",
      "200                 0.493395  0.498910  0.476717\n",
      "500                 0.309875  0.355100  0.419283\n",
      "\n",
      "\n",
      "\n",
      "Média de Probabilidade de Erro Tipo I com Minimizador Empírico\n",
      "                       10%      5%      1%\n",
      "Tamanho do Dataset                        \n",
      "10                  0.1162  0.0458  0.0158\n",
      "50                  0.1148  0.0726  0.0378\n",
      "100                 0.1072  0.0596  0.0344\n",
      "200                 0.1006  0.0552  0.0282\n",
      "500                 0.0990  0.0520  0.0250\n",
      "\n",
      "\n",
      "\n",
      "Desvio Padrão de Probabilidade de Erro Tipo I com Minimizador Empírico\n",
      "                         10%        5%        1%\n",
      "Tamanho do Dataset                              \n",
      "10                  0.320465  0.209051  0.124701\n",
      "50                  0.318780  0.259479  0.190712\n",
      "100                 0.309367  0.236744  0.182254\n",
      "200                 0.300798  0.228370  0.165544\n",
      "500                 0.298662  0.222027  0.156125\n"
     ]
    }
   ],
   "source": [
    "import Problem4"
   ]
  },
  {
   "cell_type": "code",
   "execution_count": null,
   "metadata": {},
   "outputs": [],
   "source": []
  }
 ],
 "metadata": {
  "kernelspec": {
   "display_name": "Python 3",
   "language": "python",
   "name": "python3"
  },
  "language_info": {
   "codemirror_mode": {
    "name": "ipython",
    "version": 3
   },
   "file_extension": ".py",
   "mimetype": "text/x-python",
   "name": "python",
   "nbconvert_exporter": "python",
   "pygments_lexer": "ipython3",
   "version": "3.8.5"
  }
 },
 "nbformat": 4,
 "nbformat_minor": 4
}
